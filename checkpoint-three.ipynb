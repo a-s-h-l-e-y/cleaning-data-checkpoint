{
    "cells": [
        {
            "attachments": {},
            "cell_type": "markdown",
            "metadata": {
                "azdata_cell_guid": "26037d32-2047-4157-81ef-595916bd66a0"
            },
            "source": [
                "# Checkpoint Three: Cleaning Data\n",
                "\n",
                "Now you are ready to clean your data. Before starting coding, provide the link to your dataset below.\n",
                "\n",
                "My dataset: https://www.kaggle.com/datasets/dharun4772/doordash-eta-prediction\n",
                "\n",
                "Import the necessary libraries and create your dataframe(s)."
            ]
        },
        {
            "cell_type": "code",
            "execution_count": 79,
            "metadata": {
                "azdata_cell_guid": "e8adef8e-d0f2-4640-a179-5997f11e82ca"
            },
            "outputs": [
                {
                    "data": {
                        "text/plain": [
                            "Index(['market_id', 'created_at', 'actual_delivery_time', 'store_id',\n",
                            "       'store_primary_category', 'order_protocol', 'total_items', 'subtotal',\n",
                            "       'num_distinct_items', 'min_item_price', 'max_item_price',\n",
                            "       'total_onshift_dashers', 'total_busy_dashers',\n",
                            "       'total_outstanding_orders', 'estimated_order_place_duration',\n",
                            "       'estimated_store_to_consumer_driving_duration'],\n",
                            "      dtype='object')"
                        ]
                    },
                    "metadata": {},
                    "output_type": "display_data"
                },
                {
                    "data": {
                        "text/html": [
                            "<div>\n",
                            "<style scoped>\n",
                            "    .dataframe tbody tr th:only-of-type {\n",
                            "        vertical-align: middle;\n",
                            "    }\n",
                            "\n",
                            "    .dataframe tbody tr th {\n",
                            "        vertical-align: top;\n",
                            "    }\n",
                            "\n",
                            "    .dataframe thead th {\n",
                            "        text-align: right;\n",
                            "    }\n",
                            "</style>\n",
                            "<table border=\"1\" class=\"dataframe\">\n",
                            "  <thead>\n",
                            "    <tr style=\"text-align: right;\">\n",
                            "      <th></th>\n",
                            "      <th>market_id</th>\n",
                            "      <th>created_at</th>\n",
                            "      <th>actual_delivery_time</th>\n",
                            "      <th>store_id</th>\n",
                            "      <th>store_primary_category</th>\n",
                            "      <th>order_protocol</th>\n",
                            "      <th>total_items</th>\n",
                            "      <th>subtotal</th>\n",
                            "      <th>num_distinct_items</th>\n",
                            "      <th>min_item_price</th>\n",
                            "      <th>max_item_price</th>\n",
                            "      <th>total_onshift_dashers</th>\n",
                            "      <th>total_busy_dashers</th>\n",
                            "      <th>total_outstanding_orders</th>\n",
                            "      <th>estimated_order_place_duration</th>\n",
                            "      <th>estimated_store_to_consumer_driving_duration</th>\n",
                            "    </tr>\n",
                            "  </thead>\n",
                            "  <tbody>\n",
                            "    <tr>\n",
                            "      <th>0</th>\n",
                            "      <td>1.0</td>\n",
                            "      <td>2015-02-06 22:24:17</td>\n",
                            "      <td>2015-02-06 23:27:16</td>\n",
                            "      <td>1845</td>\n",
                            "      <td>american</td>\n",
                            "      <td>1.0</td>\n",
                            "      <td>4</td>\n",
                            "      <td>3441</td>\n",
                            "      <td>4</td>\n",
                            "      <td>557</td>\n",
                            "      <td>1239</td>\n",
                            "      <td>33.0</td>\n",
                            "      <td>14.0</td>\n",
                            "      <td>21.0</td>\n",
                            "      <td>446</td>\n",
                            "      <td>861.0</td>\n",
                            "    </tr>\n",
                            "    <tr>\n",
                            "      <th>1</th>\n",
                            "      <td>2.0</td>\n",
                            "      <td>2015-02-10 21:49:25</td>\n",
                            "      <td>2015-02-10 22:56:29</td>\n",
                            "      <td>5477</td>\n",
                            "      <td>mexican</td>\n",
                            "      <td>2.0</td>\n",
                            "      <td>1</td>\n",
                            "      <td>1900</td>\n",
                            "      <td>1</td>\n",
                            "      <td>1400</td>\n",
                            "      <td>1400</td>\n",
                            "      <td>1.0</td>\n",
                            "      <td>2.0</td>\n",
                            "      <td>2.0</td>\n",
                            "      <td>446</td>\n",
                            "      <td>690.0</td>\n",
                            "    </tr>\n",
                            "    <tr>\n",
                            "      <th>2</th>\n",
                            "      <td>3.0</td>\n",
                            "      <td>2015-01-22 20:39:28</td>\n",
                            "      <td>2015-01-22 21:09:09</td>\n",
                            "      <td>5477</td>\n",
                            "      <td>NaN</td>\n",
                            "      <td>1.0</td>\n",
                            "      <td>1</td>\n",
                            "      <td>1900</td>\n",
                            "      <td>1</td>\n",
                            "      <td>1900</td>\n",
                            "      <td>1900</td>\n",
                            "      <td>1.0</td>\n",
                            "      <td>0.0</td>\n",
                            "      <td>0.0</td>\n",
                            "      <td>446</td>\n",
                            "      <td>690.0</td>\n",
                            "    </tr>\n",
                            "    <tr>\n",
                            "      <th>3</th>\n",
                            "      <td>3.0</td>\n",
                            "      <td>2015-02-03 21:21:45</td>\n",
                            "      <td>2015-02-03 22:13:00</td>\n",
                            "      <td>5477</td>\n",
                            "      <td>NaN</td>\n",
                            "      <td>1.0</td>\n",
                            "      <td>6</td>\n",
                            "      <td>6900</td>\n",
                            "      <td>5</td>\n",
                            "      <td>600</td>\n",
                            "      <td>1800</td>\n",
                            "      <td>1.0</td>\n",
                            "      <td>1.0</td>\n",
                            "      <td>2.0</td>\n",
                            "      <td>446</td>\n",
                            "      <td>289.0</td>\n",
                            "    </tr>\n",
                            "    <tr>\n",
                            "      <th>4</th>\n",
                            "      <td>3.0</td>\n",
                            "      <td>2015-02-15 02:40:36</td>\n",
                            "      <td>2015-02-15 03:20:26</td>\n",
                            "      <td>5477</td>\n",
                            "      <td>NaN</td>\n",
                            "      <td>1.0</td>\n",
                            "      <td>3</td>\n",
                            "      <td>3900</td>\n",
                            "      <td>3</td>\n",
                            "      <td>1100</td>\n",
                            "      <td>1600</td>\n",
                            "      <td>6.0</td>\n",
                            "      <td>6.0</td>\n",
                            "      <td>9.0</td>\n",
                            "      <td>446</td>\n",
                            "      <td>650.0</td>\n",
                            "    </tr>\n",
                            "  </tbody>\n",
                            "</table>\n",
                            "</div>"
                        ],
                        "text/plain": [
                            "   market_id           created_at actual_delivery_time  store_id  \\\n",
                            "0        1.0  2015-02-06 22:24:17  2015-02-06 23:27:16      1845   \n",
                            "1        2.0  2015-02-10 21:49:25  2015-02-10 22:56:29      5477   \n",
                            "2        3.0  2015-01-22 20:39:28  2015-01-22 21:09:09      5477   \n",
                            "3        3.0  2015-02-03 21:21:45  2015-02-03 22:13:00      5477   \n",
                            "4        3.0  2015-02-15 02:40:36  2015-02-15 03:20:26      5477   \n",
                            "\n",
                            "  store_primary_category  order_protocol  total_items  subtotal  \\\n",
                            "0               american             1.0            4      3441   \n",
                            "1                mexican             2.0            1      1900   \n",
                            "2                    NaN             1.0            1      1900   \n",
                            "3                    NaN             1.0            6      6900   \n",
                            "4                    NaN             1.0            3      3900   \n",
                            "\n",
                            "   num_distinct_items  min_item_price  max_item_price  total_onshift_dashers  \\\n",
                            "0                   4             557            1239                   33.0   \n",
                            "1                   1            1400            1400                    1.0   \n",
                            "2                   1            1900            1900                    1.0   \n",
                            "3                   5             600            1800                    1.0   \n",
                            "4                   3            1100            1600                    6.0   \n",
                            "\n",
                            "   total_busy_dashers  total_outstanding_orders  \\\n",
                            "0                14.0                      21.0   \n",
                            "1                 2.0                       2.0   \n",
                            "2                 0.0                       0.0   \n",
                            "3                 1.0                       2.0   \n",
                            "4                 6.0                       9.0   \n",
                            "\n",
                            "   estimated_order_place_duration  \\\n",
                            "0                             446   \n",
                            "1                             446   \n",
                            "2                             446   \n",
                            "3                             446   \n",
                            "4                             446   \n",
                            "\n",
                            "   estimated_store_to_consumer_driving_duration  \n",
                            "0                                         861.0  \n",
                            "1                                         690.0  \n",
                            "2                                         690.0  \n",
                            "3                                         289.0  \n",
                            "4                                         650.0  "
                        ]
                    },
                    "execution_count": 79,
                    "metadata": {},
                    "output_type": "execute_result"
                }
            ],
            "source": [
                "import pandas as pd\n",
                "import matplotlib.pyplot as plt\n",
                "import seaborn as sns\n",
                "import numpy as np\n",
                "\n",
                "# Create a new dataframe by reading the csv\n",
                "df = pd.read_csv(\"DoorDash.csv\")\n",
                "\n",
                "# See if the df was imported and see column info\n",
                "display(df.columns)\n",
                "df.head()"
            ]
        },
        {
            "cell_type": "markdown",
            "metadata": {
                "azdata_cell_guid": "e172475a-c4ee-414a-8367-9965355dbba6"
            },
            "source": [
                "## Missing Data\n",
                "\n",
                "Test your dataset for missing data and handle it as needed. Make notes in the form of code comments as to your thought process."
            ]
        },
        {
            "cell_type": "code",
            "execution_count": 80,
            "metadata": {
                "azdata_cell_guid": "e1dc66ef-e471-4c27-92e7-ee878c106eba"
            },
            "outputs": [
                {
                    "data": {
                        "text/plain": [
                            "total_onshift_dashers                           16262\n",
                            "total_busy_dashers                              16262\n",
                            "total_outstanding_orders                        16262\n",
                            "store_primary_category                           4760\n",
                            "order_protocol                                    995\n",
                            "market_id                                         987\n",
                            "estimated_store_to_consumer_driving_duration      526\n",
                            "actual_delivery_time                                7\n",
                            "created_at                                          0\n",
                            "store_id                                            0\n",
                            "total_items                                         0\n",
                            "subtotal                                            0\n",
                            "num_distinct_items                                  0\n",
                            "min_item_price                                      0\n",
                            "max_item_price                                      0\n",
                            "estimated_order_place_duration                      0\n",
                            "dtype: int64"
                        ]
                    },
                    "execution_count": 80,
                    "metadata": {},
                    "output_type": "execute_result"
                }
            ],
            "source": [
                "# Count the columns total null values - sort amounts by greatest to least\n",
                "\n",
                "df.isnull().sum().sort_values(ascending = False)"
            ]
        },
        {
            "cell_type": "code",
            "execution_count": 81,
            "metadata": {},
            "outputs": [
                {
                    "data": {
                        "text/plain": [
                            "Index(['market_id', 'created_at', 'actual_delivery_time', 'store_id',\n",
                            "       'store_primary_category', 'order_protocol', 'total_items', 'subtotal',\n",
                            "       'num_distinct_items', 'min_item_price', 'max_item_price',\n",
                            "       'estimated_order_place_duration'],\n",
                            "      dtype='object')"
                        ]
                    },
                    "execution_count": 81,
                    "metadata": {},
                    "output_type": "execute_result"
                }
            ],
            "source": [
                "# Lots of nulls to address regarding specific doordash driver information not part\n",
                "# of my scope, so I will drop the columns\n",
                "\n",
                "df.drop(['total_onshift_dashers', 'total_busy_dashers','total_outstanding_orders','estimated_store_to_consumer_driving_duration'], axis = 1, inplace = True) \n",
                "\n",
                "df.columns\n"
            ]
        },
        {
            "cell_type": "code",
            "execution_count": 82,
            "metadata": {},
            "outputs": [
                {
                    "name": "stdout",
                    "output_type": "stream",
                    "text": [
                        "market_id - 0%\n",
                        "created_at - 0%\n",
                        "actual_delivery_time - 0%\n",
                        "store_id - 0%\n",
                        "store_primary_category - 2%\n",
                        "order_protocol - 1%\n",
                        "total_items - 0%\n",
                        "subtotal - 0%\n",
                        "num_distinct_items - 0%\n",
                        "min_item_price - 0%\n",
                        "max_item_price - 0%\n",
                        "estimated_order_place_duration - 0%\n"
                    ]
                }
            ],
            "source": [
                "# Check percentage of remaining nulls to df total\n",
                "for col in df.columns:\n",
                "    percent_missing = np.mean(df[col].isnull())\n",
                "    print('{} - {}%'.format(col, round(percent_missing*100)))"
            ]
        },
        {
            "cell_type": "code",
            "execution_count": 83,
            "metadata": {},
            "outputs": [],
            "source": [
                "# Replace null values in the market_id column to market 0\n",
                "df['market_id'].fillna('0', inplace = True)"
            ]
        },
        {
            "cell_type": "code",
            "execution_count": 84,
            "metadata": {},
            "outputs": [],
            "source": [
                "# Replace null values in the store_primary_category column to unknown\n",
                "df['store_primary_category'].fillna('Unknown', inplace = True)"
            ]
        },
        {
            "cell_type": "code",
            "execution_count": 85,
            "metadata": {},
            "outputs": [
                {
                    "name": "stdout",
                    "output_type": "stream",
                    "text": [
                        "       market_id           created_at actual_delivery_time  store_id store_primary_category  order_protocol  total_items  subtotal  num_distinct_items  min_item_price  max_item_price  estimated_order_place_duration\n",
                        "109          3.0  2015-02-10 21:51:54                  NaN      1698               sandwich             3.0            1      1125                   1             975             975                             251\n",
                        "7670         2.0  2015-02-08 02:54:42                  NaN      2340               japanese             2.0            4      2860                   3             390             690                             251\n",
                        "78511        4.0  2015-02-15 02:15:45                  NaN       901               catering             1.0            9      5050                   6             375            1125                             446\n",
                        "115982       4.0  2015-02-16 01:52:49                  NaN      1107                  pizza             3.0            2      2094                   2             599            1195                             251\n",
                        "140635       2.0  2015-02-15 02:21:42                  NaN      1661                dessert             1.0            3      4210                   3             865            1850                             446\n",
                        "158967       2.0  2015-02-01 01:21:29                  NaN       314                mexican             5.0            5      3447                   3             225            1349                             251\n",
                        "170416       5.0  2015-02-01 01:36:33                  NaN      2651                   fast             4.0            3       982                   3             165             575                             251\n"
                    ]
                }
            ],
            "source": [
                "# Look closer at the null values in the actual_delivery_time\n",
                "null_rows = df.loc[df['actual_delivery_time'].isnull()]\n",
                "\n",
                "print(null_rows.to_string())"
            ]
        },
        {
            "cell_type": "code",
            "execution_count": 86,
            "metadata": {},
            "outputs": [],
            "source": [
                "# Replace null values in the actual_deliver_time to a non null timestamp\n",
                "df['actual_delivery_time'].fillna('2015-02-01 00:00:00 ', inplace = True)"
            ]
        },
        {
            "cell_type": "code",
            "execution_count": 87,
            "metadata": {},
            "outputs": [
                {
                    "data": {
                        "text/plain": [
                            "order_protocol                    995\n",
                            "market_id                           0\n",
                            "created_at                          0\n",
                            "actual_delivery_time                0\n",
                            "store_id                            0\n",
                            "store_primary_category              0\n",
                            "total_items                         0\n",
                            "subtotal                            0\n",
                            "num_distinct_items                  0\n",
                            "min_item_price                      0\n",
                            "max_item_price                      0\n",
                            "estimated_order_place_duration      0\n",
                            "dtype: int64"
                        ]
                    },
                    "execution_count": 87,
                    "metadata": {},
                    "output_type": "execute_result"
                }
            ],
            "source": [
                "df.isnull().sum().sort_values(ascending = False)"
            ]
        },
        {
            "cell_type": "markdown",
            "metadata": {
                "azdata_cell_guid": "1233f543-e9a0-4f78-96f5-d7536554102e"
            },
            "source": [
                "## Irregular Data\n",
                "\n",
                "Detect outliers in your dataset and handle them as needed. Use code comments to make notes about your thought process."
            ]
        },
        {
            "cell_type": "code",
            "execution_count": 88,
            "metadata": {
                "azdata_cell_guid": "efed50ae-16f0-471d-98e2-632553a74c12"
            },
            "outputs": [
                {
                    "data": {
                        "text/plain": [
                            "market_id                          object\n",
                            "created_at                         object\n",
                            "actual_delivery_time               object\n",
                            "store_id                            int64\n",
                            "store_primary_category             object\n",
                            "order_protocol                    float64\n",
                            "total_items                         int64\n",
                            "subtotal                            int64\n",
                            "num_distinct_items                  int64\n",
                            "min_item_price                      int64\n",
                            "max_item_price                      int64\n",
                            "estimated_order_place_duration      int64\n",
                            "dtype: object"
                        ]
                    },
                    "execution_count": 88,
                    "metadata": {},
                    "output_type": "execute_result"
                }
            ],
            "source": [
                "# If a column is numeric to check for outliers\n",
                "\n",
                "# find the datatype of each column\n",
                "df.dtypes"
            ]
        },
        {
            "cell_type": "code",
            "execution_count": 89,
            "metadata": {},
            "outputs": [
                {
                    "data": {
                        "text/plain": [
                            "count    197428.000000\n",
                            "mean       2682.331402\n",
                            "std        1823.093688\n",
                            "min           0.000000\n",
                            "25%        1400.000000\n",
                            "50%        2200.000000\n",
                            "75%        3395.000000\n",
                            "max       27100.000000\n",
                            "Name: subtotal, dtype: float64"
                        ]
                    },
                    "execution_count": 89,
                    "metadata": {},
                    "output_type": "execute_result"
                }
            ],
            "source": [
                "df['subtotal'].describe()"
            ]
        },
        {
            "cell_type": "code",
            "execution_count": 90,
            "metadata": {},
            "outputs": [],
            "source": [
                "# Define and Find subtotal outliers\n",
                "outlier = np.where((df['subtotal'] < 0.0) & (df['subtotal'] > 3395.0))"
            ]
        },
        {
            "cell_type": "code",
            "execution_count": 91,
            "metadata": {},
            "outputs": [
                {
                    "data": {
                        "text/plain": [
                            "<AxesSubplot:ylabel='Frequency'>"
                        ]
                    },
                    "execution_count": 91,
                    "metadata": {},
                    "output_type": "execute_result"
                },
                {
                    "data": {
                        "image/png": "[encoded data removed]",
                        "text/plain": [
                            "<Figure size 640x480 with 1 Axes>"
                        ]
                    },
                    "metadata": {},
                    "output_type": "display_data"
                }
            ],
            "source": [
                "# Visualize subtotal outliers using a histogram\n",
                "df.plot.hist(column=\"subtotal\")"
            ]
        },
        {
            "cell_type": "code",
            "execution_count": 92,
            "metadata": {},
            "outputs": [
                {
                    "data": {
                        "text/plain": [
                            "<AxesSubplot:xlabel='store_id', ylabel='subtotal'>"
                        ]
                    },
                    "execution_count": 92,
                    "metadata": {},
                    "output_type": "execute_result"
                },
                {
                    "data": {
                        "image/png": "[encoded data removed]",
                        "text/plain": [
                            "<Figure size 640x480 with 1 Axes>"
                        ]
                    },
                    "metadata": {},
                    "output_type": "display_data"
                }
            ],
            "source": [
                "# Visualize subtotal outliers using a scatterplot\n",
                "df.plot.scatter(x=\"store_id\",y=\"subtotal\")"
            ]
        },
        {
            "cell_type": "code",
            "execution_count": 100,
            "metadata": {},
            "outputs": [
                {
                    "data": {
                        "text/html": [
                            "<div>\n",
                            "<style scoped>\n",
                            "    .dataframe tbody tr th:only-of-type {\n",
                            "        vertical-align: middle;\n",
                            "    }\n",
                            "\n",
                            "    .dataframe tbody tr th {\n",
                            "        vertical-align: top;\n",
                            "    }\n",
                            "\n",
                            "    .dataframe thead th {\n",
                            "        text-align: right;\n",
                            "    }\n",
                            "</style>\n",
                            "<table border=\"1\" class=\"dataframe\">\n",
                            "  <thead>\n",
                            "    <tr style=\"text-align: right;\">\n",
                            "      <th></th>\n",
                            "      <th>market_id</th>\n",
                            "      <th>created_at</th>\n",
                            "      <th>actual_delivery_time</th>\n",
                            "      <th>store_id</th>\n",
                            "      <th>store_primary_category</th>\n",
                            "      <th>total_items</th>\n",
                            "      <th>subtotal</th>\n",
                            "      <th>num_distinct_items</th>\n",
                            "      <th>min_item_price</th>\n",
                            "      <th>max_item_price</th>\n",
                            "      <th>estimated_order_place_duration</th>\n",
                            "    </tr>\n",
                            "  </thead>\n",
                            "  <tbody>\n",
                            "    <tr>\n",
                            "      <th>0</th>\n",
                            "      <td>1.0</td>\n",
                            "      <td>2015-02-06 22:24:17</td>\n",
                            "      <td>2015-02-06 23:27:16</td>\n",
                            "      <td>1845</td>\n",
                            "      <td>american</td>\n",
                            "      <td>4</td>\n",
                            "      <td>3441</td>\n",
                            "      <td>4</td>\n",
                            "      <td>557</td>\n",
                            "      <td>1239</td>\n",
                            "      <td>446</td>\n",
                            "    </tr>\n",
                            "    <tr>\n",
                            "      <th>1</th>\n",
                            "      <td>2.0</td>\n",
                            "      <td>2015-02-10 21:49:25</td>\n",
                            "      <td>2015-02-10 22:56:29</td>\n",
                            "      <td>5477</td>\n",
                            "      <td>mexican</td>\n",
                            "      <td>1</td>\n",
                            "      <td>1900</td>\n",
                            "      <td>1</td>\n",
                            "      <td>1400</td>\n",
                            "      <td>1400</td>\n",
                            "      <td>446</td>\n",
                            "    </tr>\n",
                            "    <tr>\n",
                            "      <th>2</th>\n",
                            "      <td>3.0</td>\n",
                            "      <td>2015-01-22 20:39:28</td>\n",
                            "      <td>2015-01-22 21:09:09</td>\n",
                            "      <td>5477</td>\n",
                            "      <td>Unknown</td>\n",
                            "      <td>1</td>\n",
                            "      <td>1900</td>\n",
                            "      <td>1</td>\n",
                            "      <td>1900</td>\n",
                            "      <td>1900</td>\n",
                            "      <td>446</td>\n",
                            "    </tr>\n",
                            "    <tr>\n",
                            "      <th>3</th>\n",
                            "      <td>3.0</td>\n",
                            "      <td>2015-02-03 21:21:45</td>\n",
                            "      <td>2015-02-03 22:13:00</td>\n",
                            "      <td>5477</td>\n",
                            "      <td>Unknown</td>\n",
                            "      <td>6</td>\n",
                            "      <td>6900</td>\n",
                            "      <td>5</td>\n",
                            "      <td>600</td>\n",
                            "      <td>1800</td>\n",
                            "      <td>446</td>\n",
                            "    </tr>\n",
                            "    <tr>\n",
                            "      <th>4</th>\n",
                            "      <td>3.0</td>\n",
                            "      <td>2015-02-15 02:40:36</td>\n",
                            "      <td>2015-02-15 03:20:26</td>\n",
                            "      <td>5477</td>\n",
                            "      <td>Unknown</td>\n",
                            "      <td>3</td>\n",
                            "      <td>3900</td>\n",
                            "      <td>3</td>\n",
                            "      <td>1100</td>\n",
                            "      <td>1600</td>\n",
                            "      <td>446</td>\n",
                            "    </tr>\n",
                            "  </tbody>\n",
                            "</table>\n",
                            "</div>"
                        ],
                        "text/plain": [
                            "  market_id           created_at actual_delivery_time  store_id  \\\n",
                            "0       1.0  2015-02-06 22:24:17  2015-02-06 23:27:16      1845   \n",
                            "1       2.0  2015-02-10 21:49:25  2015-02-10 22:56:29      5477   \n",
                            "2       3.0  2015-01-22 20:39:28  2015-01-22 21:09:09      5477   \n",
                            "3       3.0  2015-02-03 21:21:45  2015-02-03 22:13:00      5477   \n",
                            "4       3.0  2015-02-15 02:40:36  2015-02-15 03:20:26      5477   \n",
                            "\n",
                            "  store_primary_category  total_items  subtotal  num_distinct_items  \\\n",
                            "0               american            4      3441                   4   \n",
                            "1                mexican            1      1900                   1   \n",
                            "2                Unknown            1      1900                   1   \n",
                            "3                Unknown            6      6900                   5   \n",
                            "4                Unknown            3      3900                   3   \n",
                            "\n",
                            "   min_item_price  max_item_price  estimated_order_place_duration  \n",
                            "0             557            1239                             446  \n",
                            "1            1400            1400                             446  \n",
                            "2            1900            1900                             446  \n",
                            "3             600            1800                             446  \n",
                            "4            1100            1600                             446  "
                        ]
                    },
                    "execution_count": 100,
                    "metadata": {},
                    "output_type": "execute_result"
                }
            ],
            "source": [
                "df.head()\n"
            ]
        },
        {
            "cell_type": "markdown",
            "metadata": {
                "azdata_cell_guid": "6f5b8ee0-bab3-44bc-958a-67d1e4c0407f"
            },
            "source": [
                "## Unnecessary Data\n",
                "\n",
                "Look for the different types of unnecessary data in your dataset and address it as needed. Make sure to use code comments to illustrate your thought process."
            ]
        },
        {
            "cell_type": "code",
            "execution_count": 93,
            "metadata": {
                "azdata_cell_guid": "e788a239-2fbf-41de-9bd3-19e52e3b187c"
            },
            "outputs": [
                {
                    "name": "stdout",
                    "output_type": "stream",
                    "text": [
                        "store_id                          6743\n",
                        "total_items                         57\n",
                        "subtotal                          8368\n",
                        "num_distinct_items                  20\n",
                        "min_item_price                    2312\n",
                        "max_item_price                    2652\n",
                        "estimated_order_place_duration      98\n",
                        "dtype: int64\n"
                    ]
                }
            ],
            "source": [
                "# Find distinct unique rows\n",
                "\n",
                "columns = [['store_id', 'total_items',\n",
                "       'subtotal', 'num_distinct_items','min_item_price','max_item_price','estimated_order_place_duration']]\n",
                "for names in columns:\n",
                "    print(df[names].nunique())"
            ]
        },
        {
            "cell_type": "code",
            "execution_count": 94,
            "metadata": {},
            "outputs": [],
            "source": [
                "# Remove unnecessary columns from dataframe\n",
                "# Not relevant to my anaylsis estimated_order_place_duration\n",
                "df.drop(['order_protocol'], axis=1, inplace = True)"
            ]
        },
        {
            "cell_type": "code",
            "execution_count": 95,
            "metadata": {},
            "outputs": [
                {
                    "data": {
                        "text/plain": [
                            "Index(['market_id', 'created_at', 'actual_delivery_time', 'store_id',\n",
                            "       'store_primary_category', 'total_items', 'subtotal',\n",
                            "       'num_distinct_items', 'min_item_price', 'max_item_price',\n",
                            "       'estimated_order_place_duration'],\n",
                            "      dtype='object')"
                        ]
                    },
                    "execution_count": 95,
                    "metadata": {},
                    "output_type": "execute_result"
                }
            ],
            "source": [
                "df.columns"
            ]
        },
        {
            "cell_type": "markdown",
            "metadata": {
                "azdata_cell_guid": "53e0cf94-c68a-4fa0-9849-9505a66bcce6"
            },
            "source": [
                "## Inconsistent Data\n",
                "\n",
                "Check for inconsistent data and address any that arises. As always, use code comments to illustrate your thought process."
            ]
        },
        {
            "cell_type": "code",
            "execution_count": 102,
            "metadata": {
                "azdata_cell_guid": "e9de6624-812a-43f8-8e20-93b4a49b091f"
            },
            "outputs": [
                {
                    "data": {
                        "text/html": [
                            "<div>\n",
                            "<style scoped>\n",
                            "    .dataframe tbody tr th:only-of-type {\n",
                            "        vertical-align: middle;\n",
                            "    }\n",
                            "\n",
                            "    .dataframe tbody tr th {\n",
                            "        vertical-align: top;\n",
                            "    }\n",
                            "\n",
                            "    .dataframe thead th {\n",
                            "        text-align: right;\n",
                            "    }\n",
                            "</style>\n",
                            "<table border=\"1\" class=\"dataframe\">\n",
                            "  <thead>\n",
                            "    <tr style=\"text-align: right;\">\n",
                            "      <th></th>\n",
                            "      <th>market_id</th>\n",
                            "      <th>created_at</th>\n",
                            "      <th>actual_delivery_time</th>\n",
                            "      <th>store_id</th>\n",
                            "      <th>store_primary_category</th>\n",
                            "      <th>total_items</th>\n",
                            "      <th>subtotal</th>\n",
                            "      <th>num_distinct_items</th>\n",
                            "      <th>min_item_price</th>\n",
                            "      <th>max_item_price</th>\n",
                            "      <th>estimated_order_place_duration</th>\n",
                            "    </tr>\n",
                            "  </thead>\n",
                            "  <tbody>\n",
                            "    <tr>\n",
                            "      <th>197423</th>\n",
                            "      <td>1.0</td>\n",
                            "      <td>2015-02-17 00:19:41</td>\n",
                            "      <td>2015-02-17 01:24:48</td>\n",
                            "      <td>2956</td>\n",
                            "      <td>fast</td>\n",
                            "      <td>3</td>\n",
                            "      <td>1389</td>\n",
                            "      <td>3</td>\n",
                            "      <td>345</td>\n",
                            "      <td>649</td>\n",
                            "      <td>251</td>\n",
                            "    </tr>\n",
                            "    <tr>\n",
                            "      <th>197424</th>\n",
                            "      <td>1.0</td>\n",
                            "      <td>2015-02-13 00:01:59</td>\n",
                            "      <td>2015-02-13 00:58:22</td>\n",
                            "      <td>2956</td>\n",
                            "      <td>fast</td>\n",
                            "      <td>6</td>\n",
                            "      <td>3010</td>\n",
                            "      <td>4</td>\n",
                            "      <td>405</td>\n",
                            "      <td>825</td>\n",
                            "      <td>251</td>\n",
                            "    </tr>\n",
                            "    <tr>\n",
                            "      <th>197425</th>\n",
                            "      <td>1.0</td>\n",
                            "      <td>2015-01-24 04:46:08</td>\n",
                            "      <td>2015-01-24 05:36:16</td>\n",
                            "      <td>2956</td>\n",
                            "      <td>fast</td>\n",
                            "      <td>5</td>\n",
                            "      <td>1836</td>\n",
                            "      <td>3</td>\n",
                            "      <td>300</td>\n",
                            "      <td>399</td>\n",
                            "      <td>251</td>\n",
                            "    </tr>\n",
                            "    <tr>\n",
                            "      <th>197426</th>\n",
                            "      <td>1.0</td>\n",
                            "      <td>2015-02-01 18:18:15</td>\n",
                            "      <td>2015-02-01 19:23:22</td>\n",
                            "      <td>3630</td>\n",
                            "      <td>sandwich</td>\n",
                            "      <td>1</td>\n",
                            "      <td>1175</td>\n",
                            "      <td>1</td>\n",
                            "      <td>535</td>\n",
                            "      <td>535</td>\n",
                            "      <td>446</td>\n",
                            "    </tr>\n",
                            "    <tr>\n",
                            "      <th>197427</th>\n",
                            "      <td>1.0</td>\n",
                            "      <td>2015-02-08 19:24:33</td>\n",
                            "      <td>2015-02-08 20:01:41</td>\n",
                            "      <td>3630</td>\n",
                            "      <td>sandwich</td>\n",
                            "      <td>4</td>\n",
                            "      <td>2605</td>\n",
                            "      <td>4</td>\n",
                            "      <td>425</td>\n",
                            "      <td>750</td>\n",
                            "      <td>446</td>\n",
                            "    </tr>\n",
                            "  </tbody>\n",
                            "</table>\n",
                            "</div>"
                        ],
                        "text/plain": [
                            "       market_id           created_at actual_delivery_time  store_id  \\\n",
                            "197423       1.0  2015-02-17 00:19:41  2015-02-17 01:24:48      2956   \n",
                            "197424       1.0  2015-02-13 00:01:59  2015-02-13 00:58:22      2956   \n",
                            "197425       1.0  2015-01-24 04:46:08  2015-01-24 05:36:16      2956   \n",
                            "197426       1.0  2015-02-01 18:18:15  2015-02-01 19:23:22      3630   \n",
                            "197427       1.0  2015-02-08 19:24:33  2015-02-08 20:01:41      3630   \n",
                            "\n",
                            "       store_primary_category  total_items  subtotal  num_distinct_items  \\\n",
                            "197423                   fast            3      1389                   3   \n",
                            "197424                   fast            6      3010                   4   \n",
                            "197425                   fast            5      1836                   3   \n",
                            "197426               sandwich            1      1175                   1   \n",
                            "197427               sandwich            4      2605                   4   \n",
                            "\n",
                            "        min_item_price  max_item_price  estimated_order_place_duration  \n",
                            "197423             345             649                             251  \n",
                            "197424             405             825                             251  \n",
                            "197425             300             399                             251  \n",
                            "197426             535             535                             446  \n",
                            "197427             425             750                             446  "
                        ]
                    },
                    "execution_count": 102,
                    "metadata": {},
                    "output_type": "execute_result"
                }
            ],
            "source": [
                "# Tail check\n",
                "df.tail()"
            ]
        },
        {
            "cell_type": "markdown",
            "metadata": {
                "azdata_cell_guid": "dedc0bfe-17d0-40b2-914f-2ddb54f9ce0d"
            },
            "source": [
                "## Summarize Your Results\n",
                "\n",
                "Make note of your answers to the following questions.\n",
                "\n",
                "1. Did you find all four types of dirty data in your dataset? \n",
                "I found three of the four types of dirty data, there was not inconsistent.\n",
                "2. Did the process of cleaning your data give you new insights into your dataset?\n",
                "Yes, I learned that there where a lot of null values that I didn't expect. I didn't want those to interfere with a proper analysis. Also, there where a lot of columns with data that were not relevant to the business questions.\n",
                "3. Is there anything you would like to make note of when it comes to manipulating the data and making visualizations?\n",
                "I want to extract more detailed date information from the created_at column and drill down to find out more information about what time orders are more often placed, which days are the most popular day of the week for orders and how long a typical order takes from created_at to actual_delivery_time"
            ]
        }
    ],
    "metadata": {
        "kernelspec": {
            "display_name": "Python 3",
            "language": "python",
            "name": "python3"
        },
        "language_info": {
            "codemirror_mode": {
                "name": "ipython",
                "version": 3
            },
            "file_extension": ".py",
            "mimetype": "text/x-python",
            "name": "python",
            "nbconvert_exporter": "python",
            "pygments_lexer": "ipython3",
            "version": "3.10.3"
        }
    },
    "nbformat": 4,
    "nbformat_minor": 2
}
